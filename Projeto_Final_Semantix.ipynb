{
  "nbformat": 4,
  "nbformat_minor": 0,
  "metadata": {
    "colab": {
      "provenance": [],
      "authorship_tag": "ABX9TyMJGDV0HJAVvpZ6hk0RxjOV",
      "include_colab_link": true
    },
    "kernelspec": {
      "name": "python3",
      "display_name": "Python 3"
    },
    "language_info": {
      "name": "python"
    }
  },
  "cells": [
    {
      "cell_type": "markdown",
      "metadata": {
        "id": "view-in-github",
        "colab_type": "text"
      },
      "source": [
        "<a href=\"https://colab.research.google.com/github/leticiaJFS/Projeto-Final-Semantix/blob/main/Projeto_Final_Semantix.ipynb\" target=\"_parent\"><img src=\"https://colab.research.google.com/assets/colab-badge.svg\" alt=\"Open In Colab\"/></a>"
      ]
    },
    {
      "cell_type": "code",
      "execution_count": null,
      "metadata": {
        "id": "m3qE3tXvmfH-"
      },
      "outputs": [],
      "source": [
        "#Estou iniciando!!! Está incompleto.\n",
        "\n",
        "# instalar as dependências\n",
        "!apt-get update -qq\n",
        "!apt-get install openjdk-8-jdk-headless -qq > /dev/null\n",
        "!wget -q https://archive.apache.org/dist/spark/spark-3.1.2/spark-3.1.2-bin-hadoop2.7.tgz\n",
        "!tar xf spark-3.1.2-bin-hadoop2.7.tgz\n",
        "!pip install -q findspark"
      ]
    },
    {
      "cell_type": "code",
      "source": [
        "import os\n",
        "os.environ[\"JAVA_HOME\"] = \"/usr/lib/jvm/java-8-openjdk-amd64\"\n",
        "os.environ[\"SPARK_HOME\"] = \"/content/spark-3.1.2-bin-hadoop2.7\""
      ],
      "metadata": {
        "id": "M9U8bG_bn4VQ"
      },
      "execution_count": null,
      "outputs": []
    },
    {
      "cell_type": "code",
      "source": [
        "import findspark\n",
        "findspark.init()"
      ],
      "metadata": {
        "id": "IglEG2pOn6fJ"
      },
      "execution_count": null,
      "outputs": []
    },
    {
      "cell_type": "code",
      "source": [
        "from pyspark.sql import SparkSession"
      ],
      "metadata": {
        "id": "nxjsOmZdoLaO"
      },
      "execution_count": null,
      "outputs": []
    },
    {
      "cell_type": "code",
      "source": [
        "spark = SparkSession.builder.appName(\"Desafio Final\").getOrCreate()"
      ],
      "metadata": {
        "id": "36QHBJ4noRd_"
      },
      "execution_count": null,
      "outputs": []
    },
    {
      "cell_type": "code",
      "source": [
        "from google.colab import drive\n",
        "drive.mount('/content/drive')"
      ],
      "metadata": {
        "colab": {
          "base_uri": "https://localhost:8080/"
        },
        "id": "gQrCOsFioXVJ",
        "outputId": "544ec4ba-339d-4338-dd18-dca648fef3b8"
      },
      "execution_count": null,
      "outputs": [
        {
          "output_type": "stream",
          "name": "stdout",
          "text": [
            "Mounted at /content/drive\n"
          ]
        }
      ]
    },
    {
      "cell_type": "code",
      "source": [
        "path = \"/content/drive/MyDrive/Semantix/MICRODADOS_ENEM_2021.csv\" \n",
        "dados = spark.read.csv(path, sep=';', inferSchema=True, header=True)"
      ],
      "metadata": {
        "id": "LhaY9gGYpnIj"
      },
      "execution_count": null,
      "outputs": []
    },
    {
      "cell_type": "code",
      "source": [
        "dados.printSchema()"
      ],
      "metadata": {
        "colab": {
          "base_uri": "https://localhost:8080/"
        },
        "id": "DBdVkRQy3rIy",
        "outputId": "7777002f-3869-4393-cd6d-c27acfc45162"
      },
      "execution_count": null,
      "outputs": [
        {
          "output_type": "stream",
          "name": "stdout",
          "text": [
            "root\n",
            " |-- NU_INSCRICAO: long (nullable = true)\n",
            " |-- NU_ANO: integer (nullable = true)\n",
            " |-- TP_FAIXA_ETARIA: integer (nullable = true)\n",
            " |-- TP_SEXO: string (nullable = true)\n",
            " |-- TP_ESTADO_CIVIL: integer (nullable = true)\n",
            " |-- TP_COR_RACA: integer (nullable = true)\n",
            " |-- TP_NACIONALIDADE: integer (nullable = true)\n",
            " |-- TP_ST_CONCLUSAO: integer (nullable = true)\n",
            " |-- TP_ANO_CONCLUIU: integer (nullable = true)\n",
            " |-- TP_ESCOLA: integer (nullable = true)\n",
            " |-- TP_ENSINO: integer (nullable = true)\n",
            " |-- IN_TREINEIRO: integer (nullable = true)\n",
            " |-- CO_MUNICIPIO_ESC: integer (nullable = true)\n",
            " |-- NO_MUNICIPIO_ESC: string (nullable = true)\n",
            " |-- CO_UF_ESC: integer (nullable = true)\n",
            " |-- SG_UF_ESC: string (nullable = true)\n",
            " |-- TP_DEPENDENCIA_ADM_ESC: integer (nullable = true)\n",
            " |-- TP_LOCALIZACAO_ESC: integer (nullable = true)\n",
            " |-- TP_SIT_FUNC_ESC: integer (nullable = true)\n",
            " |-- CO_MUNICIPIO_PROVA: integer (nullable = true)\n",
            " |-- NO_MUNICIPIO_PROVA: string (nullable = true)\n",
            " |-- CO_UF_PROVA: integer (nullable = true)\n",
            " |-- SG_UF_PROVA: string (nullable = true)\n",
            " |-- TP_PRESENCA_CN: integer (nullable = true)\n",
            " |-- TP_PRESENCA_CH: integer (nullable = true)\n",
            " |-- TP_PRESENCA_LC: integer (nullable = true)\n",
            " |-- TP_PRESENCA_MT: integer (nullable = true)\n",
            " |-- CO_PROVA_CN: integer (nullable = true)\n",
            " |-- CO_PROVA_CH: integer (nullable = true)\n",
            " |-- CO_PROVA_LC: integer (nullable = true)\n",
            " |-- CO_PROVA_MT: integer (nullable = true)\n",
            " |-- NU_NOTA_CN: double (nullable = true)\n",
            " |-- NU_NOTA_CH: double (nullable = true)\n",
            " |-- NU_NOTA_LC: double (nullable = true)\n",
            " |-- NU_NOTA_MT: double (nullable = true)\n",
            " |-- TX_RESPOSTAS_CN: string (nullable = true)\n",
            " |-- TX_RESPOSTAS_CH: string (nullable = true)\n",
            " |-- TX_RESPOSTAS_LC: string (nullable = true)\n",
            " |-- TX_RESPOSTAS_MT: string (nullable = true)\n",
            " |-- TP_LINGUA: integer (nullable = true)\n",
            " |-- TX_GABARITO_CN: string (nullable = true)\n",
            " |-- TX_GABARITO_CH: string (nullable = true)\n",
            " |-- TX_GABARITO_LC: string (nullable = true)\n",
            " |-- TX_GABARITO_MT: string (nullable = true)\n",
            " |-- TP_STATUS_REDACAO: integer (nullable = true)\n",
            " |-- NU_NOTA_COMP1: integer (nullable = true)\n",
            " |-- NU_NOTA_COMP2: integer (nullable = true)\n",
            " |-- NU_NOTA_COMP3: integer (nullable = true)\n",
            " |-- NU_NOTA_COMP4: integer (nullable = true)\n",
            " |-- NU_NOTA_COMP5: integer (nullable = true)\n",
            " |-- NU_NOTA_REDACAO: integer (nullable = true)\n",
            " |-- Q001: string (nullable = true)\n",
            " |-- Q002: string (nullable = true)\n",
            " |-- Q003: string (nullable = true)\n",
            " |-- Q004: string (nullable = true)\n",
            " |-- Q005: integer (nullable = true)\n",
            " |-- Q006: string (nullable = true)\n",
            " |-- Q007: string (nullable = true)\n",
            " |-- Q008: string (nullable = true)\n",
            " |-- Q009: string (nullable = true)\n",
            " |-- Q010: string (nullable = true)\n",
            " |-- Q011: string (nullable = true)\n",
            " |-- Q012: string (nullable = true)\n",
            " |-- Q013: string (nullable = true)\n",
            " |-- Q014: string (nullable = true)\n",
            " |-- Q015: string (nullable = true)\n",
            " |-- Q016: string (nullable = true)\n",
            " |-- Q017: string (nullable = true)\n",
            " |-- Q018: string (nullable = true)\n",
            " |-- Q019: string (nullable = true)\n",
            " |-- Q020: string (nullable = true)\n",
            " |-- Q021: string (nullable = true)\n",
            " |-- Q022: string (nullable = true)\n",
            " |-- Q023: string (nullable = true)\n",
            " |-- Q024: string (nullable = true)\n",
            " |-- Q025: string (nullable = true)\n",
            "\n"
          ]
        }
      ]
    },
    {
      "cell_type": "code",
      "source": [
        "#dados.write.parquet(\n",
        " #   path=\"/content/drive/MyDrive/Semantix/Parquet\",\n",
        " #   mode=\"overwrite\"\n",
        "#)"
      ],
      "metadata": {
        "id": "27C0jqea57IJ"
      },
      "execution_count": null,
      "outputs": []
    },
    {
      "cell_type": "code",
      "source": [
        "dados_parquet = spark.read.parquet(\n",
        "    \"/content/drive/MyDrive/Semantix/Parquet\"\n",
        ")"
      ],
      "metadata": {
        "id": "gUBlcLUI7byD"
      },
      "execution_count": null,
      "outputs": []
    },
    {
      "cell_type": "code",
      "source": [
        "dados_parquet.count()"
      ],
      "metadata": {
        "colab": {
          "base_uri": "https://localhost:8080/"
        },
        "id": "P0nDis4c7pFa",
        "outputId": "c617bf4b-5483-4046-8165-e097755d029e"
      },
      "execution_count": null,
      "outputs": [
        {
          "output_type": "execute_result",
          "data": {
            "text/plain": [
              "3389832"
            ]
          },
          "metadata": {},
          "execution_count": 21
        }
      ]
    },
    {
      "cell_type": "code",
      "source": [
        "dados.count()"
      ],
      "metadata": {
        "colab": {
          "base_uri": "https://localhost:8080/"
        },
        "id": "ReJ6v9iW75NU",
        "outputId": "27f9b7a4-51d2-426e-82b9-a0258bd419b4"
      },
      "execution_count": null,
      "outputs": [
        {
          "output_type": "execute_result",
          "data": {
            "text/plain": [
              "3389832"
            ]
          },
          "metadata": {},
          "execution_count": 22
        }
      ]
    },
    {
      "cell_type": "code",
      "source": [
        "dados_parquet.createOrReplaceTempView(\"enem\")"
      ],
      "metadata": {
        "id": "gf9fZfHjp6mc"
      },
      "execution_count": null,
      "outputs": []
    },
    {
      "cell_type": "code",
      "source": [],
      "metadata": {
        "id": "8UrflBrFGX3X"
      },
      "execution_count": null,
      "outputs": []
    },
    {
      "cell_type": "code",
      "source": [],
      "metadata": {
        "id": "OuK0Rv7xAU3v"
      },
      "execution_count": null,
      "outputs": []
    }
  ]
}