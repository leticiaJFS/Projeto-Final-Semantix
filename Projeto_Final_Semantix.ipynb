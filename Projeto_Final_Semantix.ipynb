{
  "nbformat": 4,
  "nbformat_minor": 0,
  "metadata": {
    "colab": {
      "provenance": [],
      "authorship_tag": "ABX9TyNIJ+C5tWl/9pObh6UypK5U",
      "include_colab_link": true
    },
    "kernelspec": {
      "name": "python3",
      "display_name": "Python 3"
    },
    "language_info": {
      "name": "python"
    }
  },
  "cells": [
    {
      "cell_type": "markdown",
      "metadata": {
        "id": "view-in-github",
        "colab_type": "text"
      },
      "source": [
        "<a href=\"https://colab.research.google.com/github/leticiaJFS/Projeto-Final-Semantix/blob/main/Projeto_Final_Semantix.ipynb\" target=\"_parent\"><img src=\"https://colab.research.google.com/assets/colab-badge.svg\" alt=\"Open In Colab\"/></a>"
      ]
    },
    {
      "cell_type": "code",
      "execution_count": 2,
      "metadata": {
        "id": "m3qE3tXvmfH-"
      },
      "outputs": [],
      "source": [
        "#Estou iniciando!!! Está incompleto.\n",
        "\n",
        "# instalar as dependências\n",
        "!apt-get update -qq\n",
        "!apt-get install openjdk-8-jdk-headless -qq > /dev/null\n",
        "!wget -q https://archive.apache.org/dist/spark/spark-3.1.2/spark-3.1.2-bin-hadoop2.7.tgz\n",
        "!tar xf spark-3.1.2-bin-hadoop2.7.tgz\n",
        "!pip install -q findspark"
      ]
    },
    {
      "cell_type": "code",
      "source": [
        "import os\n",
        "os.environ[\"JAVA_HOME\"] = \"/usr/lib/jvm/java-8-openjdk-amd64\"\n",
        "os.environ[\"SPARK_HOME\"] = \"/content/spark-3.1.2-bin-hadoop2.7\""
      ],
      "metadata": {
        "id": "M9U8bG_bn4VQ"
      },
      "execution_count": 3,
      "outputs": []
    },
    {
      "cell_type": "code",
      "source": [
        "import findspark\n",
        "findspark.init()"
      ],
      "metadata": {
        "id": "IglEG2pOn6fJ"
      },
      "execution_count": 4,
      "outputs": []
    },
    {
      "cell_type": "code",
      "source": [
        "from pyspark.sql import SparkSession\n",
        "import numpy as np\n",
        "import pandas as pd\n",
        "import matplotlib.pyplot as plt\n"
      ],
      "metadata": {
        "id": "nxjsOmZdoLaO"
      },
      "execution_count": 107,
      "outputs": []
    },
    {
      "cell_type": "code",
      "source": [
        "spark = SparkSession.builder.appName(\"Desafio Final\").getOrCreate()"
      ],
      "metadata": {
        "id": "36QHBJ4noRd_"
      },
      "execution_count": 6,
      "outputs": []
    },
    {
      "cell_type": "code",
      "source": [
        "from google.colab import drive\n",
        "drive.mount('/content/drive')"
      ],
      "metadata": {
        "colab": {
          "base_uri": "https://localhost:8080/"
        },
        "id": "gQrCOsFioXVJ",
        "outputId": "8d22057b-eda3-4028-af2e-e63e0cd39262"
      },
      "execution_count": 7,
      "outputs": [
        {
          "output_type": "stream",
          "name": "stdout",
          "text": [
            "Mounted at /content/drive\n"
          ]
        }
      ]
    },
    {
      "cell_type": "code",
      "source": [
        "#path = \"/content/drive/MyDrive/Semantix/MICRODADOS_ENEM_2021.csv\" \n",
        "#dados = spark.read.csv(path, sep=';', inferSchema=True, header=True)"
      ],
      "metadata": {
        "id": "LhaY9gGYpnIj"
      },
      "execution_count": 8,
      "outputs": []
    },
    {
      "cell_type": "code",
      "source": [
        "#dados.printSchema()"
      ],
      "metadata": {
        "id": "DBdVkRQy3rIy"
      },
      "execution_count": 9,
      "outputs": []
    },
    {
      "cell_type": "code",
      "source": [
        "#dados.write.parquet(\n",
        " #   path=\"/content/drive/MyDrive/Semantix/Parquet\",\n",
        " #   mode=\"overwrite\"\n",
        "#)"
      ],
      "metadata": {
        "id": "27C0jqea57IJ"
      },
      "execution_count": 10,
      "outputs": []
    },
    {
      "cell_type": "code",
      "source": [
        "dados_parquet = spark.read.parquet(\n",
        "    \"/content/drive/MyDrive/Semantix/Parquet\"\n",
        ")\n",
        "\n",
        "df = pd.read_parquet('/content/drive/MyDrive/Semantix/Parquet', engine='pyarrow')"
      ],
      "metadata": {
        "id": "gUBlcLUI7byD"
      },
      "execution_count": 37,
      "outputs": []
    },
    {
      "cell_type": "code",
      "source": [
        "dados_parquet.count()"
      ],
      "metadata": {
        "colab": {
          "base_uri": "https://localhost:8080/"
        },
        "id": "P0nDis4c7pFa",
        "outputId": "5fec903c-fc72-4e8d-c314-f8563eee33c4"
      },
      "execution_count": 12,
      "outputs": [
        {
          "output_type": "execute_result",
          "data": {
            "text/plain": [
              "3389832"
            ]
          },
          "metadata": {},
          "execution_count": 12
        }
      ]
    },
    {
      "cell_type": "code",
      "source": [
        "#dados.count()"
      ],
      "metadata": {
        "id": "ReJ6v9iW75NU"
      },
      "execution_count": 13,
      "outputs": []
    },
    {
      "cell_type": "code",
      "source": [
        "dados_parquet.createOrReplaceTempView(\"enem\")"
      ],
      "metadata": {
        "id": "gf9fZfHjp6mc"
      },
      "execution_count": 36,
      "outputs": []
    },
    {
      "cell_type": "code",
      "source": [
        "#Todos os campos podem ser nulos\n",
        "\n",
        "#Não há dados com numero de inscrição, ano, faixa etaria, sexo, estado civil, cor/raça, nacionalidade, situação conclusão EM, ano conclusão EM, tipo de escola EM, treineiro, \n",
        "    #  código município da prova,  nome do municipio da prova, codigo da UF da prova, sigla UF da prova, presença nas provas objvs, tipo lingua, nulos\n",
        "\n",
        "#spark.sql(\"select * from enem a where a.nu_inscricao is null\").show(5)\n",
        "#spark.sql(\"select * from enem a where a.nu_ano is null\").show(5)\n",
        "#spark.sql(\"select * from enem a where a.tp_faixa_etaria is null\").show(5)\n",
        "#spark.sql(\"select * from enem a where a.tp_sexo is null\").show(5)\n",
        "#spark.sql(\"select * from enem a where a.tp_estado_civil is null\").show(5)\n",
        "#spark.sql(\"select * from enem a where a.tp_cor_raca is null\").show(5)\n",
        "#spark.sql(\"select * from enem a where a.tp_nacionalidade is null\").show(5)\n",
        "#spark.sql(\"select * from enem a where a.tp_st_conclusao is null\").show(5)\n",
        "#spark.sql(\"select * from enem a where a.tp_ano_concluiu is null\").show(5)\n",
        "#spark.sql(\"select * from enem a where a.tp_escola is null\").show(5)\n",
        "#spark.sql(\"select * from enem a where a.IN_TREINEIRO is null\").show(5)\n",
        "#spark.sql(\"select count(*) from enem a where a.CO_MUNICIPIO_PROVA is null\").show()\n",
        "#spark.sql(\"select count(*) from enem a where a.NO_MUNICIPIO_PROVA is null\").show()\n",
        "#spark.sql(\"select count(*) from enem a where a.CO_UF_PROVA is null\").show()\n",
        "#spark.sql(\"select count(*) from enem a where a.TP_PRESENCA_CN is null\").show()\n",
        "#spark.sql(\"select count(*) from enem a where a.TP_PRESENCA_CH is null\").show()\n",
        "#spark.sql(\"select count(*) from enem a where a.TP_PRESENCA_LC is null\").show()\n",
        "#spark.sql(\"select count(*) from enem a where a.TP_PRESENCA_MT is null\").show()\n",
        "#spark.sql(\"select count(*) from enem a where a.TP_LINGUA is null\").show()\n",
        "\n",
        "#Há dados nulos nas colunas tipo de instituição do EM (2293004), codigo municipio da escola (2576026), nome do município da escola (2576026), codigo da UF da escola (2576026), sigla UF da escola (2576026), \n",
        "    #dependencia administrativa da escola (2576026), localização da escola (25760226), situação de funcionamento da escola (2576026), codigo da prova CN (1143988), codigo da prova CH (1011453), \n",
        "    #código da prova LC (1011453), código da prova MT (1143988), Nota prova de CN(1143988), Nota prova de CH(1011453), Nota prova de LC(1011453), Nota prova de MT(1143988), respostas CN (1143988),\n",
        "    #respostas CH (1011453), respostas LC (1011453), respostas MT (1143988), gabarito CN (1143988), gabarito CH (1011453), gabarito LC (1011453), gabarito MT (1143988), status redação (1011453),\n",
        "    #nota competencia1 (1011453), nota competencia2 (1011453), nota competencia3 (1011453),  nota competencia4 (1011453), nota competencia5 (1011453), nota redação (1011453), Q001 a Q025 (2)\n",
        "\n",
        "#spark.sql(\"select count(*) from enem a where a.TP_ENSINO is null\").SHOW()\n",
        "#spark.sql(\"select count(*) from enem a where a.CO_MUNICIPIO_ESC is null\").show()\n",
        "#spark.sql(\"select count(*) from enem a where a.CO_UF_ESC is null\").show()\n",
        "#spark.sql(\"select count(*) from enem a where a.SG_UF_ESC is null\").show()\n",
        "#spark.sql(\"select count(*) from enem a where a.TP_DEPENDENCIA_ADM_ESC is null\").show()\n",
        "#spark.sql(\"select count(*) from enem a where a.TP_LOCALIZACAO_ESC is null\").show()\n",
        "#spark.sql(\"select count(*) from enem a where a.TP_SIT_FUNC_ESC is null\").show()\n",
        "#spark.sql(\"select count(*) from enem a where a.CO_PROVA_CN is null\").show()\n",
        "#spark.sql(\"select count(*) from enem a where a.CO_PROVA_CH is null\").show()\n",
        "#spark.sql(\"select count(*) from enem a where a.CO_PROVA_LC is null\").show()\n",
        "#spark.sql(\"select count(*) from enem a where a.CO_PROVA_MT is null\").show()\n",
        "#spark.sql(\"select count(*) from enem a where a.NU_NOTA_CN is null\").show()\n",
        "#spark.sql(\"select count(*) from enem a where a.NU_NOTA_CH is null\").show()\n",
        "#spark.sql(\"select count(*) from enem a where a.NU_NOTA_LC is null\").show()\n",
        "#spark.sql(\"select count(*) from enem a where a.NU_NOTA_MT is null\").show()\n",
        "#spark.sql(\"select count(*) from enem a where a.TX_RESPOSTAS_CN is null\").show()\n",
        "#spark.sql(\"select count(*) from enem a where a.TX_RESPOSTAS_CH is null\").show()\n",
        "#spark.sql(\"select count(*) from enem a where a.TX_RESPOSTAS_LC is null\").show()\n",
        "#spark.sql(\"select count(*) from enem a where a.TX_RESPOSTAS_MT is null\").show()\n",
        "#spark.sql(\"select count(*) from enem a where a.TX_GABARITO_CN is null\").show()\n",
        "#spark.sql(\"select count(*) from enem a where a.TX_GABARITO_CH is null\").show()\n",
        "#spark.sql(\"select count(*) from enem a where a.TX_GABARITO_MT is null\").show()\n",
        "#spark.sql(\"select count(*) from enem a where a.TX_GABARITO_LC is null\").show()\n",
        "#spark.sql(\"select count(*) from enem a where a.TP_STATUS_REDACAO is null\").show()\n",
        "#spark.sql(\"select count(*) from enem a where a.NU_NOTA_COMP1 is null\").show()\n",
        "#spark.sql(\"select count(*) from enem a where a.NU_NOTA_COMP2 is null\").show()\n",
        "#spark.sql(\"select count(*) from enem a where a.NU_NOTA_COMP3 is null\").show()\n",
        "#spark.sql(\"select count(*) from enem a where a.NU_NOTA_COMP4 is null\").show()\n",
        "#spark.sql(\"select count(*) from enem a where a.NU_NOTA_COMP5 is null\").show()\n",
        "#spark.sql(\"select count(*) from enem a where a.NU_NOTA_REDACAO is null\").show()\n",
        "#spark.sql(\"select count(*) from enem a where a.Q001 is null\").show() ...\n",
        "#spark.sql(\"select count(*) from enem a where a.Q025 is null\").show()\n",
        "\n",
        "#dados_parquet.printSchema()"
      ],
      "metadata": {
        "id": "8UrflBrFGX3X"
      },
      "execution_count": 106,
      "outputs": []
    },
    {
      "cell_type": "code",
      "source": [
        "# A maioria dos candidatos possui 18 anos.\n",
        "# Mais de 50% dos candidatos possuem idade até 19 anos\n",
        "# 25% dos candidatos possuem 23 anos ou mais \n",
        "\n",
        "#spark.sql(\"select count(*) QTD, TP_FAIXA_ETARIA from enem a GROUP BY TP_FAIXA_ETARIA ORDER BY 1 DESC\").show()\n",
        "df[\"TP_FAIXA_ETARIA\"].describe().round(2)\n",
        "\n",
        "#spark.sql(\"select count(*) QTD from enem a where TP_FAIXA_ETARIA <= 4 ORDER BY 1 DESC\").show()\n",
        "\n",
        "\n",
        "#plt.hist(df.TP_FAIXA_ETARIA, 20, rwidth=5.0)\n",
        "#plt.show()\n",
        "#df.describe()"
      ],
      "metadata": {
        "id": "OuK0Rv7xAU3v",
        "colab": {
          "base_uri": "https://localhost:8080/"
        },
        "outputId": "b3d57efa-28f3-4216-f9e1-f8c5aba9d409"
      },
      "execution_count": 130,
      "outputs": [
        {
          "output_type": "execute_result",
          "data": {
            "text/plain": [
              "count    3389832.00\n",
              "mean           5.31\n",
              "std            3.90\n",
              "min            1.00\n",
              "25%            2.00\n",
              "50%            4.00\n",
              "75%            7.00\n",
              "max           20.00\n",
              "Name: TP_FAIXA_ETARIA, dtype: float64"
            ]
          },
          "metadata": {},
          "execution_count": 130
        }
      ]
    },
    {
      "cell_type": "code",
      "source": [],
      "metadata": {
        "id": "XsRrpml1graL"
      },
      "execution_count": null,
      "outputs": []
    }
  ]
}